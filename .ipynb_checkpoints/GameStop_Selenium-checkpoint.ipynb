{
 "cells": [
  {
   "cell_type": "code",
   "execution_count": 42,
   "id": "ed745e1f-d36c-4541-9c49-128e687c843f",
   "metadata": {
    "tags": []
   },
   "outputs": [],
   "source": [
    "# import defaults\n",
    "from selenium import webdriver\n",
    "from selenium.webdriver.common.by import By\n",
    "from selenium.webdriver.common.keys import Keys\n",
    "import time\n",
    "import pandas as pd"
   ]
  },
  {
   "cell_type": "code",
   "execution_count": 43,
   "id": "5946243f-550a-4921-9228-bbcfd166429e",
   "metadata": {
    "tags": []
   },
   "outputs": [],
   "source": [
    "# options for dealing with websites that populate while a user scrolls\n",
    "from selenium.webdriver.chrome.options import Options\n",
    "\n",
    "chrome_options = Options()\n",
    "chrome_options.add_argument(\"--headless\")\n",
    "driver = webdriver.Chrome(options=chrome_options)\n"
   ]
  },
  {
   "cell_type": "code",
   "execution_count": 51,
   "id": "7120b969-dd3c-488c-ad49-ea1f1d0c8365",
   "metadata": {
    "tags": []
   },
   "outputs": [],
   "source": [
    "driver = webdriver.Chrome() #options=chrome_options\n",
    "\n",
    "# Open the page\n",
    "driver.get(\"https://www.google.com/search?q=GameStop&sca_esv=54b6785aa301342b&tbs=cdr:1,cd_min:1/4/2021,cd_max:12/31/2021&tbm=nws&source=lnms&sa=X&ved=2ahUKEwjjn4HW1qaEAxV5FFkFHYNAAZ4Q0pQJegQIBhAG&biw=1600&bih=731&dpr=1\")\n",
    "\n",
    "# Wait for the initial content to load\n",
    "time.sleep(5)  # Adjust this delay as necessary\n",
    "\n",
    "counter = 0\n",
    "all_titles = []\n",
    "all_dates = []\n",
    "\n",
    "# Scroll down to load more articles\n",
    "html = driver.find_element(By.TAG_NAME, 'html')\n",
    "for _ in range(10):  # Adjust the range depending on how much you need to scroll\n",
    "    html.send_keys(Keys.END)\n",
    "    \n",
    "\n",
    "#Source: https://sqa.stackexchange.com/questions/50747/selenium-python-write-click-next-page-loop\n",
    "#set counter to 25; Google typically allows only 30 pages of results for this type of query\n",
    "#counter is not synced with Selenium operations or timer\n",
    "#Google also occassionally changes the XPATH to the next button\n",
    "while counter <=25:\n",
    "    # Scrape the article titles\n",
    "    articles = driver.find_elements(By.XPATH, \"//body//a[@class='WlydOe']//div[@class='n0jPhd ynAwRc MBeuO nDgy9d']\")\n",
    "    pub_dates = driver.find_elements(By.XPATH, \"//div[@class='SoAPf']/div[@class='OSrXXb rbYSKb LfVVr']/span\")\n",
    "    titles = [article.text for article in articles]\n",
    "    dates = [date.text for date in pub_dates]\n",
    "    for title in titles:\n",
    "        all_titles.append(title)\n",
    "    for date in dates:\n",
    "        all_dates.append(date)\n",
    "    #Get the \"Next\" button using the XPath\n",
    "    next_button_xpath = \"/html/body[@id='gsr']/div[@id='main']/div[@id='cnt']/div[@id='rcnt']/div[@id='center_col']/div[@id='botstuff']/div/div[3]/table[@class='AaVjTc']/tbody/tr/td[@class='d6cvqb BBwThe'][2]/a[@id='pnnext']/span[2]\"\n",
    "    next_button = driver.find_element(By.XPATH, next_button_xpath)\n",
    "    \n",
    "    # Click Next\n",
    "    next_button.click()\n",
    "    counter +=1\n",
    "    time.sleep(2)  # Add delay between scrolls for the page to load\n",
    "    \n",
    "\n",
    "# Close the browser\n",
    "driver.quit()"
   ]
  },
  {
   "cell_type": "code",
   "execution_count": 52,
   "id": "ee41e517-8633-468c-ae49-58fa977b625a",
   "metadata": {
    "tags": []
   },
   "outputs": [
    {
     "data": {
      "text/plain": [
       "260"
      ]
     },
     "execution_count": 52,
     "metadata": {},
     "output_type": "execute_result"
    }
   ],
   "source": [
    "len(all_titles)"
   ]
  },
  {
   "cell_type": "code",
   "execution_count": 53,
   "id": "f2af3f7d-762e-41ea-9649-5c625359cbe9",
   "metadata": {
    "tags": []
   },
   "outputs": [
    {
     "data": {
      "text/plain": [
       "260"
      ]
     },
     "execution_count": 53,
     "metadata": {},
     "output_type": "execute_result"
    }
   ],
   "source": [
    "len(all_dates)"
   ]
  },
  {
   "cell_type": "code",
   "execution_count": 54,
   "id": "a2e70e0a-d18e-486b-b050-987ad1a56807",
   "metadata": {
    "tags": []
   },
   "outputs": [
    {
     "data": {
      "text/html": [
       "<div>\n",
       "<style scoped>\n",
       "    .dataframe tbody tr th:only-of-type {\n",
       "        vertical-align: middle;\n",
       "    }\n",
       "\n",
       "    .dataframe tbody tr th {\n",
       "        vertical-align: top;\n",
       "    }\n",
       "\n",
       "    .dataframe thead th {\n",
       "        text-align: right;\n",
       "    }\n",
       "</style>\n",
       "<table border=\"1\" class=\"dataframe\">\n",
       "  <thead>\n",
       "    <tr style=\"text-align: right;\">\n",
       "      <th></th>\n",
       "      <th>Date</th>\n",
       "      <th>Title</th>\n",
       "    </tr>\n",
       "  </thead>\n",
       "  <tbody>\n",
       "    <tr>\n",
       "      <th>0</th>\n",
       "      <td>2021-01-28</td>\n",
       "      <td>GameStop Stock Soars as Reddit Investors Take ...</td>\n",
       "    </tr>\n",
       "    <tr>\n",
       "      <th>1</th>\n",
       "      <td>2021-02-13</td>\n",
       "      <td>GameStop timeline: A closer look at the saga t...</td>\n",
       "    </tr>\n",
       "    <tr>\n",
       "      <th>2</th>\n",
       "      <td>2021-01-30</td>\n",
       "      <td>Controversy Over GameStop’s Stock Market Saga ...</td>\n",
       "    </tr>\n",
       "    <tr>\n",
       "      <th>3</th>\n",
       "      <td>2021-02-03</td>\n",
       "      <td>Remembering the GameStop of My Childhood | SUP...</td>\n",
       "    </tr>\n",
       "    <tr>\n",
       "      <th>4</th>\n",
       "      <td>2021-01-30</td>\n",
       "      <td>Brockton native Keith Gill caused GameStop $GM...</td>\n",
       "    </tr>\n",
       "  </tbody>\n",
       "</table>\n",
       "</div>"
      ],
      "text/plain": [
       "        Date                                              Title\n",
       "0 2021-01-28  GameStop Stock Soars as Reddit Investors Take ...\n",
       "1 2021-02-13  GameStop timeline: A closer look at the saga t...\n",
       "2 2021-01-30  Controversy Over GameStop’s Stock Market Saga ...\n",
       "3 2021-02-03  Remembering the GameStop of My Childhood | SUP...\n",
       "4 2021-01-30  Brockton native Keith Gill caused GameStop $GM..."
      ]
     },
     "execution_count": 54,
     "metadata": {},
     "output_type": "execute_result"
    }
   ],
   "source": [
    "dict = {'Date': all_dates, 'Title': all_titles}\n",
    "df = pd.DataFrame(dict)\n",
    "#Source: https://pandas.pydata.org/docs/reference/api/pandas.to_datetime.html\n",
    "df['Date'] = pd.to_datetime(df['Date'])\n",
    "df.head()"
   ]
  },
  {
   "cell_type": "code",
   "execution_count": 60,
   "id": "42741090-c634-4191-b86d-6631142c7f9d",
   "metadata": {
    "tags": []
   },
   "outputs": [
    {
     "data": {
      "text/html": [
       "<div>\n",
       "<style scoped>\n",
       "    .dataframe tbody tr th:only-of-type {\n",
       "        vertical-align: middle;\n",
       "    }\n",
       "\n",
       "    .dataframe tbody tr th {\n",
       "        vertical-align: top;\n",
       "    }\n",
       "\n",
       "    .dataframe thead th {\n",
       "        text-align: right;\n",
       "    }\n",
       "</style>\n",
       "<table border=\"1\" class=\"dataframe\">\n",
       "  <thead>\n",
       "    <tr style=\"text-align: right;\">\n",
       "      <th></th>\n",
       "      <th>Date</th>\n",
       "      <th>Title</th>\n",
       "    </tr>\n",
       "  </thead>\n",
       "  <tbody>\n",
       "    <tr>\n",
       "      <th>30</th>\n",
       "      <td>2021-01-25</td>\n",
       "      <td>The GameStop Game Never Stops</td>\n",
       "    </tr>\n",
       "    <tr>\n",
       "      <th>22</th>\n",
       "      <td>2021-01-26</td>\n",
       "      <td>The GameStop Fiasco Proves We're in a 'Meme St...</td>\n",
       "    </tr>\n",
       "    <tr>\n",
       "      <th>259</th>\n",
       "      <td>2021-01-27</td>\n",
       "      <td>The complete moron's guide to GameStop's stock...</td>\n",
       "    </tr>\n",
       "    <tr>\n",
       "      <th>153</th>\n",
       "      <td>2021-01-27</td>\n",
       "      <td>Steven Cohen's Point72 invests $750 million in...</td>\n",
       "    </tr>\n",
       "    <tr>\n",
       "      <th>6</th>\n",
       "      <td>2021-01-28</td>\n",
       "      <td>The Whole Messy, Ridiculous GameStop Saga in O...</td>\n",
       "    </tr>\n",
       "  </tbody>\n",
       "</table>\n",
       "</div>"
      ],
      "text/plain": [
       "          Date                                              Title\n",
       "30  2021-01-25                      The GameStop Game Never Stops\n",
       "22  2021-01-26  The GameStop Fiasco Proves We're in a 'Meme St...\n",
       "259 2021-01-27  The complete moron's guide to GameStop's stock...\n",
       "153 2021-01-27  Steven Cohen's Point72 invests $750 million in...\n",
       "6   2021-01-28  The Whole Messy, Ridiculous GameStop Saga in O..."
      ]
     },
     "execution_count": 60,
     "metadata": {},
     "output_type": "execute_result"
    }
   ],
   "source": [
    "#Source: https://pandas.pydata.org/docs/reference/api/pandas.DataFrame.sort_values.html\n",
    "df = df.sort_values(by='Date', ascending=True)\n",
    "df.head()"
   ]
  },
  {
   "cell_type": "code",
   "execution_count": 56,
   "id": "a83c46db-6309-4b3a-9450-f476b0564655",
   "metadata": {
    "tags": []
   },
   "outputs": [
    {
     "data": {
      "text/plain": [
       "Date     0\n",
       "Title    0\n",
       "dtype: int64"
      ]
     },
     "execution_count": 56,
     "metadata": {},
     "output_type": "execute_result"
    }
   ],
   "source": [
    "df.isna().sum()"
   ]
  },
  {
   "cell_type": "code",
   "execution_count": 61,
   "id": "edfa7e8d-877e-4e01-9594-356c6b67f75f",
   "metadata": {
    "tags": []
   },
   "outputs": [],
   "source": [
    "df.to_csv(\"GME_news_data.csv\", index=False)"
   ]
  },
  {
   "cell_type": "code",
   "execution_count": null,
   "id": "5cfa7147-b4df-4f01-a858-10426a70b385",
   "metadata": {},
   "outputs": [],
   "source": []
  }
 ],
 "metadata": {
  "kernelspec": {
   "display_name": "Python 3 (ipykernel)",
   "language": "python",
   "name": "python3"
  },
  "language_info": {
   "codemirror_mode": {
    "name": "ipython",
    "version": 3
   },
   "file_extension": ".py",
   "mimetype": "text/x-python",
   "name": "python",
   "nbconvert_exporter": "python",
   "pygments_lexer": "ipython3",
   "version": "3.11.4"
  }
 },
 "nbformat": 4,
 "nbformat_minor": 5
}

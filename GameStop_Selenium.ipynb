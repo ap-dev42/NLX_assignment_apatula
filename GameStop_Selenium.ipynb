{
 "cells": [
  {
   "cell_type": "code",
   "execution_count": null,
   "id": "ed745e1f-d36c-4541-9c49-128e687c843f",
   "metadata": {
    "tags": []
   },
   "outputs": [],
   "source": [
    "# import defaults\n",
    "from selenium import webdriver\n",
    "from selenium.webdriver.common.by import By\n",
    "from selenium.webdriver.common.keys import Keys\n",
    "import time\n",
    "import pandas as pd"
   ]
  },
  {
   "cell_type": "code",
   "execution_count": null,
   "id": "5946243f-550a-4921-9228-bbcfd166429e",
   "metadata": {
    "tags": []
   },
   "outputs": [],
   "source": [
    "# options for dealing with websites that populate while a user scrolls\n",
    "from selenium.webdriver.chrome.options import Options\n",
    "\n",
    "chrome_options = Options()\n",
    "chrome_options.add_argument(\"--headless\")\n",
    "driver = webdriver.Chrome(options=chrome_options)\n"
   ]
  },
  {
   "cell_type": "code",
   "execution_count": null,
   "id": "7120b969-dd3c-488c-ad49-ea1f1d0c8365",
   "metadata": {
    "tags": []
   },
   "outputs": [],
   "source": [
    "driver = webdriver.Chrome() #options=chrome_options\n",
    "\n",
    "# link to Google News Archive search for \"GameStop\" from 04JAN2021 - 31DEC2021\n",
    "driver.get(\"https://www.google.com/search?q=GameStop&sca_esv=54b6785aa301342b&tbs=cdr:1,cd_min:1/4/2021,cd_max:12/31/2021&tbm=nws&source=lnms&sa=X&ved=2ahUKEwjjn4HW1qaEAxV5FFkFHYNAAZ4Q0pQJegQIBhAG&biw=1600&bih=731&dpr=1\")\n",
    "\n",
    "# Wait for the initial content to load\n",
    "time.sleep(5)\n",
    "\n",
    "# essentially a timer, restricts the number of pages the Selenium web crawler can access\n",
    "counter = 0\n",
    "# lists to store all document titles and publication dates\n",
    "all_titles = []\n",
    "all_dates = []\n",
    "\n",
    "# Scroll down to load more articles\n",
    "html = driver.find_element(By.TAG_NAME, 'html')\n",
    "for _ in range(10):  # Adjust the range depending on how much you need to scroll\n",
    "    html.send_keys(Keys.END)\n",
    "    \n",
    "\n",
    "#Source: https://sqa.stackexchange.com/questions/50747/selenium-python-write-click-next-page-loop\n",
    "#set counter to 25; Google typically allows only 30 pages of results for this type of query\n",
    "#counter is not synced with Selenium operations or timer\n",
    "#Google also occassionally changes the XPATH to the next button\n",
    "while counter <=25:\n",
    "    # Scrape the article titles\n",
    "    # get all the article titles and publication dates\n",
    "    articles = driver.find_elements(By.XPATH, \"//body//a[@class='WlydOe']//div[@class='n0jPhd ynAwRc MBeuO nDgy9d']\")\n",
    "    pub_dates = driver.find_elements(By.XPATH, \"//div[@class='SoAPf']/div[@class='OSrXXb rbYSKb LfVVr']/span\")\n",
    "    titles = [article.text for article in articles]\n",
    "    dates = [date.text for date in pub_dates]\n",
    "    # append titles and publication dates to lists\n",
    "    for title in titles:\n",
    "        all_titles.append(title)\n",
    "    for date in dates:\n",
    "        all_dates.append(date)\n",
    "    #Get the \"Next\" button using the XPath\n",
    "    next_button_xpath = \"/html/body[@id='gsr']/div[@id='main']/div[@id='cnt']/div[@id='rcnt']/div[@id='center_col']/div[@id='botstuff']/div/div[3]/table[@class='AaVjTc']/tbody/tr/td[@class='d6cvqb BBwThe'][2]/a[@id='pnnext']/span[2]\"\n",
    "    next_button = driver.find_element(By.XPATH, next_button_xpath)\n",
    "    \n",
    "    # Click the next button at the bottom of the page\n",
    "    next_button.click()\n",
    "    # iterate counter\n",
    "    counter +=1\n",
    "    time.sleep(2)  # Add delay between scrolls for the page to load\n",
    "    \n",
    "\n",
    "# Close the browser\n",
    "driver.quit()"
   ]
  },
  {
   "cell_type": "code",
   "execution_count": null,
   "id": "ee41e517-8633-468c-ae49-58fa977b625a",
   "metadata": {
    "tags": []
   },
   "outputs": [],
   "source": [
    "len(all_titles)"
   ]
  },
  {
   "cell_type": "code",
   "execution_count": null,
   "id": "f2af3f7d-762e-41ea-9649-5c625359cbe9",
   "metadata": {
    "tags": []
   },
   "outputs": [],
   "source": [
    "len(all_dates)"
   ]
  },
  {
   "cell_type": "code",
   "execution_count": null,
   "id": "a2e70e0a-d18e-486b-b050-987ad1a56807",
   "metadata": {
    "tags": []
   },
   "outputs": [],
   "source": [
    "# format lists to store as dataframe\n",
    "dict = {'Date': all_dates, 'Title': all_titles}\n",
    "df = pd.DataFrame(dict)\n",
    "#Source: https://pandas.pydata.org/docs/reference/api/pandas.to_datetime.html\n",
    "df['Date'] = pd.to_datetime(df['Date'])\n",
    "df.head()"
   ]
  },
  {
   "cell_type": "code",
   "execution_count": null,
   "id": "42741090-c634-4191-b86d-6631142c7f9d",
   "metadata": {
    "tags": []
   },
   "outputs": [],
   "source": [
    "#Source: https://pandas.pydata.org/docs/reference/api/pandas.DataFrame.sort_values.html\n",
    "# sort articles by pub date\n",
    "df = df.sort_values(by='Date', ascending=True)\n",
    "df.head()"
   ]
  },
  {
   "cell_type": "code",
   "execution_count": null,
   "id": "a83c46db-6309-4b3a-9450-f476b0564655",
   "metadata": {
    "tags": []
   },
   "outputs": [],
   "source": [
    "# check for missing values\n",
    "df.isna().sum()"
   ]
  },
  {
   "cell_type": "code",
   "execution_count": null,
   "id": "edfa7e8d-877e-4e01-9594-356c6b67f75f",
   "metadata": {
    "tags": []
   },
   "outputs": [],
   "source": [
    "# save dataframe to csv file\n",
    "df.to_csv(\"GME_news_data.csv\", index=False)"
   ]
  },
  {
   "cell_type": "code",
   "execution_count": null,
   "id": "5cfa7147-b4df-4f01-a858-10426a70b385",
   "metadata": {},
   "outputs": [],
   "source": []
  }
 ],
 "metadata": {
  "kernelspec": {
   "display_name": "Python 3 (ipykernel)",
   "language": "python",
   "name": "python3"
  },
  "language_info": {
   "codemirror_mode": {
    "name": "ipython",
    "version": 3
   },
   "file_extension": ".py",
   "mimetype": "text/x-python",
   "name": "python",
   "nbconvert_exporter": "python",
   "pygments_lexer": "ipython3",
   "version": "3.11.4"
  }
 },
 "nbformat": 4,
 "nbformat_minor": 5
}
